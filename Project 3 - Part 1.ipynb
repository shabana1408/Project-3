{
 "cells": [
  {
   "cell_type": "markdown",
   "id": "ad982843-78f9-4348-a52e-5fba2554931d",
   "metadata": {},
   "source": [
    "# Project 3 - Part 1"
   ]
  },
  {
   "cell_type": "markdown",
   "id": "adae5ec4-40fa-45cd-9c44-3763336cbfc8",
   "metadata": {},
   "source": [
    "## Business problem"
   ]
  },
  {
   "cell_type": "markdown",
   "id": "11b3232e-c974-42f8-bad3-17f3cd1b3f3d",
   "metadata": {},
   "source": [
    "- Produce a MySQL database on movies from a subset of IMDB's publicly available dataset.\n",
    "- Use this database to analyze what makes a movie successful.\n",
    "- Provide recommendations to the stakeholder on how to make a successful movie."
   ]
  },
  {
   "cell_type": "markdown",
   "id": "84ceaea0-b142-4f08-a80f-9abbd30926ff",
   "metadata": {},
   "source": [
    "## Requirements"
   ]
  },
  {
   "cell_type": "markdown",
   "id": "f0858db4-61ff-4981-b31b-76fb9e95fd62",
   "metadata": {},
   "source": [
    "- Download several files from IMDB’s movie data set.\n",
    "- Exclude any movie with missing values for genre or runtime.\n",
    "- Include only full-length movies (titleType = \"movie\").\n",
    "- Include only fictional movies (not from documentary genre).\n",
    "- Include only movies that were released 2000 - 2021 (include 2000 and 2021).\n",
    "- Include only movies that were released in the United States."
   ]
  },
  {
   "cell_type": "markdown",
   "id": "8e81cf41-05c7-4a1f-9858-06fabd92f03c",
   "metadata": {},
   "source": [
    "## Imports"
   ]
  },
  {
   "cell_type": "code",
   "execution_count": 30,
   "id": "96c17b87-8d56-4b80-8e2f-fabfc3daff14",
   "metadata": {},
   "outputs": [],
   "source": [
    "import pandas as pd\n",
    "import numpy as np\n",
    "import os"
   ]
  },
  {
   "cell_type": "markdown",
   "id": "6264f6f0-7caa-4d4f-9850-5066943f9846",
   "metadata": {},
   "source": [
    "## Load the data"
   ]
  },
  {
   "cell_type": "code",
   "execution_count": 31,
   "id": "56823b13-a314-49d2-9713-de9d91857572",
   "metadata": {},
   "outputs": [],
   "source": [
    "akas_url = \"https://datasets.imdbws.com/title.akas.tsv.gz\"\n",
    "basics_url = \"https://datasets.imdbws.com/title.basics.tsv.gz\"\n",
    "ratings_url = \"https://datasets.imdbws.com/title.ratings.tsv.gz\""
   ]
  },
  {
   "cell_type": "code",
   "execution_count": 32,
   "id": "7fef8046-fb5b-44eb-ac8f-1063f5c3bb6b",
   "metadata": {},
   "outputs": [],
   "source": [
    "akas = pd.read_csv(akas_url, sep='\\t', low_memory=False)"
   ]
  },
  {
   "cell_type": "code",
   "execution_count": 33,
   "id": "97375db3-b32c-492d-850c-d8f2d04afcf3",
   "metadata": {},
   "outputs": [],
   "source": [
    "basics = pd.read_csv(basics_url, sep='\\t', low_memory=False)"
   ]
  },
  {
   "cell_type": "code",
   "execution_count": 34,
   "id": "a8d4be2a-aa86-4208-b364-761f8a2812c0",
   "metadata": {},
   "outputs": [],
   "source": [
    "ratings = pd.read_csv(ratings_url, sep='\\t', low_memory=False)"
   ]
  },
  {
   "cell_type": "markdown",
   "id": "7cd3103c-8291-4d26-af89-26b4fb72499b",
   "metadata": {},
   "source": [
    "## Inspect and filter the data: Title AKAs"
   ]
  },
  {
   "cell_type": "markdown",
   "id": "36034754-c1e1-4f66-b67e-efa6fb69af8c",
   "metadata": {},
   "source": [
    "**Data dictionary**"
   ]
  },
  {
   "cell_type": "markdown",
   "id": "b135846b-51d4-461e-af4f-0256e3744c7e",
   "metadata": {},
   "source": [
    "- titleId (string) - a tconst, an alphanumeric unique identifier of the title\n",
    "- ordering (integer) – a number to uniquely identify rows for a given titleId\n",
    "- title (string) – the localized title\n",
    "- region (string) - the region for this version of the title\n",
    "- language (string) - the language of the title\n",
    "- types (array) - Enumerated set of attributes for this alternative title. E.g. \"alternative\", \"dvd\", \"festival\", \"tv\", etc.\n",
    "- attributes (array) - Additional terms to describe this alternative title, not enumerated\n",
    "- isOriginalTitle (boolean) – 0: not original title; 1: original title"
   ]
  },
  {
   "cell_type": "code",
   "execution_count": 35,
   "id": "62b582d1-6ff4-4a5a-a1a9-4a68058f171b",
   "metadata": {},
   "outputs": [
    {
     "name": "stdout",
     "output_type": "stream",
     "text": [
      "<class 'pandas.core.frame.DataFrame'>\n",
      "RangeIndex: 37759203 entries, 0 to 37759202\n",
      "Data columns (total 8 columns):\n",
      " #   Column           Dtype \n",
      "---  ------           ----- \n",
      " 0   titleId          object\n",
      " 1   ordering         int64 \n",
      " 2   title            object\n",
      " 3   region           object\n",
      " 4   language         object\n",
      " 5   types            object\n",
      " 6   attributes       object\n",
      " 7   isOriginalTitle  object\n",
      "dtypes: int64(1), object(7)\n",
      "memory usage: 2.3+ GB\n"
     ]
    }
   ],
   "source": [
    "akas.info()"
   ]
  },
  {
   "cell_type": "code",
   "execution_count": 36,
   "id": "36d5e091-3bd7-4ccc-a661-094101a521c4",
   "metadata": {},
   "outputs": [
    {
     "data": {
      "text/html": [
       "<div>\n",
       "<style scoped>\n",
       "    .dataframe tbody tr th:only-of-type {\n",
       "        vertical-align: middle;\n",
       "    }\n",
       "\n",
       "    .dataframe tbody tr th {\n",
       "        vertical-align: top;\n",
       "    }\n",
       "\n",
       "    .dataframe thead th {\n",
       "        text-align: right;\n",
       "    }\n",
       "</style>\n",
       "<table border=\"1\" class=\"dataframe\">\n",
       "  <thead>\n",
       "    <tr style=\"text-align: right;\">\n",
       "      <th></th>\n",
       "      <th>titleId</th>\n",
       "      <th>ordering</th>\n",
       "      <th>title</th>\n",
       "      <th>region</th>\n",
       "      <th>language</th>\n",
       "      <th>types</th>\n",
       "      <th>attributes</th>\n",
       "      <th>isOriginalTitle</th>\n",
       "    </tr>\n",
       "  </thead>\n",
       "  <tbody>\n",
       "    <tr>\n",
       "      <th>0</th>\n",
       "      <td>tt0000001</td>\n",
       "      <td>1</td>\n",
       "      <td>Карменсіта</td>\n",
       "      <td>UA</td>\n",
       "      <td>\\N</td>\n",
       "      <td>imdbDisplay</td>\n",
       "      <td>\\N</td>\n",
       "      <td>0</td>\n",
       "    </tr>\n",
       "    <tr>\n",
       "      <th>1</th>\n",
       "      <td>tt0000001</td>\n",
       "      <td>2</td>\n",
       "      <td>Carmencita</td>\n",
       "      <td>DE</td>\n",
       "      <td>\\N</td>\n",
       "      <td>\\N</td>\n",
       "      <td>literal title</td>\n",
       "      <td>0</td>\n",
       "    </tr>\n",
       "    <tr>\n",
       "      <th>2</th>\n",
       "      <td>tt0000001</td>\n",
       "      <td>3</td>\n",
       "      <td>Carmencita - spanyol tánc</td>\n",
       "      <td>HU</td>\n",
       "      <td>\\N</td>\n",
       "      <td>imdbDisplay</td>\n",
       "      <td>\\N</td>\n",
       "      <td>0</td>\n",
       "    </tr>\n",
       "    <tr>\n",
       "      <th>3</th>\n",
       "      <td>tt0000001</td>\n",
       "      <td>4</td>\n",
       "      <td>Καρμενσίτα</td>\n",
       "      <td>GR</td>\n",
       "      <td>\\N</td>\n",
       "      <td>imdbDisplay</td>\n",
       "      <td>\\N</td>\n",
       "      <td>0</td>\n",
       "    </tr>\n",
       "    <tr>\n",
       "      <th>4</th>\n",
       "      <td>tt0000001</td>\n",
       "      <td>5</td>\n",
       "      <td>Карменсита</td>\n",
       "      <td>RU</td>\n",
       "      <td>\\N</td>\n",
       "      <td>imdbDisplay</td>\n",
       "      <td>\\N</td>\n",
       "      <td>0</td>\n",
       "    </tr>\n",
       "  </tbody>\n",
       "</table>\n",
       "</div>"
      ],
      "text/plain": [
       "     titleId  ordering                      title region language  \\\n",
       "0  tt0000001         1                 Карменсіта     UA       \\N   \n",
       "1  tt0000001         2                 Carmencita     DE       \\N   \n",
       "2  tt0000001         3  Carmencita - spanyol tánc     HU       \\N   \n",
       "3  tt0000001         4                 Καρμενσίτα     GR       \\N   \n",
       "4  tt0000001         5                 Карменсита     RU       \\N   \n",
       "\n",
       "         types     attributes isOriginalTitle  \n",
       "0  imdbDisplay             \\N               0  \n",
       "1           \\N  literal title               0  \n",
       "2  imdbDisplay             \\N               0  \n",
       "3  imdbDisplay             \\N               0  \n",
       "4  imdbDisplay             \\N               0  "
      ]
     },
     "execution_count": 36,
     "metadata": {},
     "output_type": "execute_result"
    }
   ],
   "source": [
    "akas.head()"
   ]
  },
  {
   "cell_type": "code",
   "execution_count": 37,
   "id": "c91b12f3-5f04-4304-8763-ae96d15d0f87",
   "metadata": {},
   "outputs": [
    {
     "name": "stdout",
     "output_type": "stream",
     "text": [
      "There are 37759203 rows and 8 columns in the title_akas dataset.\n"
     ]
    }
   ],
   "source": [
    "print(f'There are {akas.shape[0]} rows and {akas.shape[1]} columns in the title_akas dataset.')"
   ]
  },
  {
   "cell_type": "code",
   "execution_count": 38,
   "id": "7a73b906-4bfb-4944-abb9-7b7d0cb0424c",
   "metadata": {},
   "outputs": [],
   "source": [
    "## Align datatypes\n",
    "akas['isOriginalTitle'] = akas['isOriginalTitle'].astype(bool)"
   ]
  },
  {
   "cell_type": "code",
   "execution_count": 39,
   "id": "d870e641-a7f2-4bdd-94fd-ba6af7da0257",
   "metadata": {},
   "outputs": [],
   "source": [
    "## Replace \"\\N\" with np.nan\n",
    "akas.replace({'\\\\N':np.nan}, inplace=True)"
   ]
  },
  {
   "cell_type": "code",
   "execution_count": 40,
   "id": "e6e561bf-83c5-4627-a6ea-1410be9da928",
   "metadata": {},
   "outputs": [],
   "source": [
    "## Keep only US movies\n",
    "akas = akas[akas['region'] == 'US']"
   ]
  },
  {
   "cell_type": "code",
   "execution_count": 41,
   "id": "c0efcf50-9d5d-4fcc-8c1b-2f2cf70b533d",
   "metadata": {},
   "outputs": [
    {
     "name": "stdout",
     "output_type": "stream",
     "text": [
      "<class 'pandas.core.frame.DataFrame'>\n",
      "Int64Index: 1477044 entries, 5 to 37758947\n",
      "Data columns (total 8 columns):\n",
      " #   Column           Non-Null Count    Dtype \n",
      "---  ------           --------------    ----- \n",
      " 0   titleId          1477044 non-null  object\n",
      " 1   ordering         1477044 non-null  int64 \n",
      " 2   title            1477044 non-null  object\n",
      " 3   region           1477044 non-null  object\n",
      " 4   language         4208 non-null     object\n",
      " 5   types            985576 non-null   object\n",
      " 6   attributes       47725 non-null    object\n",
      " 7   isOriginalTitle  1477044 non-null  bool  \n",
      "dtypes: bool(1), int64(1), object(6)\n",
      "memory usage: 91.6+ MB\n"
     ]
    }
   ],
   "source": [
    "## Cleaned and filtered data\n",
    "akas.info()"
   ]
  },
  {
   "cell_type": "markdown",
   "id": "e9dce06a-33f9-4f12-a927-2f2d5b442ca4",
   "metadata": {},
   "source": [
    "## Inspect and filter the data: Title Basics"
   ]
  },
  {
   "cell_type": "markdown",
   "id": "d221686a-50ec-4887-9167-e31d8b5ed87d",
   "metadata": {},
   "source": [
    "**Data dictionary**"
   ]
  },
  {
   "cell_type": "markdown",
   "id": "3503cc7b-df42-4e16-9e36-efd75fffa588",
   "metadata": {},
   "source": [
    "- tconst (string) - alphanumeric unique identifier of the title\n",
    "- titleType (string) – the type/format of the title (e.g. movie, short, tvseries, tvepisode, video, etc)\n",
    "- primaryTitle (string) – the more popular title / the title used by the filmmakers on promotional materials at the point of release\n",
    "- originalTitle (string) - original title, in the original language\n",
    "- isAdult (boolean) - 0: non-adult title; 1: adult title\n",
    "- startYear (YYYY) – represents the release year of a title. In the case of TV Series, it is the series start year\n",
    "- endYear (YYYY) – TV Series end year. ‘\\N’ for all other title types\n",
    "- runtimeMinutes – primary runtime of the title, in minutes\n",
    "- genres (string array) – includes up to three genres associated with the title"
   ]
  },
  {
   "cell_type": "code",
   "execution_count": 42,
   "id": "681662b1-a17a-4571-847a-5cfda3d3a770",
   "metadata": {},
   "outputs": [
    {
     "name": "stdout",
     "output_type": "stream",
     "text": [
      "<class 'pandas.core.frame.DataFrame'>\n",
      "RangeIndex: 10311739 entries, 0 to 10311738\n",
      "Data columns (total 9 columns):\n",
      " #   Column          Dtype \n",
      "---  ------          ----- \n",
      " 0   tconst          object\n",
      " 1   titleType       object\n",
      " 2   primaryTitle    object\n",
      " 3   originalTitle   object\n",
      " 4   isAdult         object\n",
      " 5   startYear       object\n",
      " 6   endYear         object\n",
      " 7   runtimeMinutes  object\n",
      " 8   genres          object\n",
      "dtypes: object(9)\n",
      "memory usage: 708.1+ MB\n"
     ]
    }
   ],
   "source": [
    "basics.info()"
   ]
  },
  {
   "cell_type": "code",
   "execution_count": 43,
   "id": "8f7b735b-2c7a-440e-8087-a0a3c7c7fdca",
   "metadata": {},
   "outputs": [
    {
     "data": {
      "text/html": [
       "<div>\n",
       "<style scoped>\n",
       "    .dataframe tbody tr th:only-of-type {\n",
       "        vertical-align: middle;\n",
       "    }\n",
       "\n",
       "    .dataframe tbody tr th {\n",
       "        vertical-align: top;\n",
       "    }\n",
       "\n",
       "    .dataframe thead th {\n",
       "        text-align: right;\n",
       "    }\n",
       "</style>\n",
       "<table border=\"1\" class=\"dataframe\">\n",
       "  <thead>\n",
       "    <tr style=\"text-align: right;\">\n",
       "      <th></th>\n",
       "      <th>tconst</th>\n",
       "      <th>titleType</th>\n",
       "      <th>primaryTitle</th>\n",
       "      <th>originalTitle</th>\n",
       "      <th>isAdult</th>\n",
       "      <th>startYear</th>\n",
       "      <th>endYear</th>\n",
       "      <th>runtimeMinutes</th>\n",
       "      <th>genres</th>\n",
       "    </tr>\n",
       "  </thead>\n",
       "  <tbody>\n",
       "    <tr>\n",
       "      <th>0</th>\n",
       "      <td>tt0000001</td>\n",
       "      <td>short</td>\n",
       "      <td>Carmencita</td>\n",
       "      <td>Carmencita</td>\n",
       "      <td>0</td>\n",
       "      <td>1894</td>\n",
       "      <td>\\N</td>\n",
       "      <td>1</td>\n",
       "      <td>Documentary,Short</td>\n",
       "    </tr>\n",
       "    <tr>\n",
       "      <th>1</th>\n",
       "      <td>tt0000002</td>\n",
       "      <td>short</td>\n",
       "      <td>Le clown et ses chiens</td>\n",
       "      <td>Le clown et ses chiens</td>\n",
       "      <td>0</td>\n",
       "      <td>1892</td>\n",
       "      <td>\\N</td>\n",
       "      <td>5</td>\n",
       "      <td>Animation,Short</td>\n",
       "    </tr>\n",
       "    <tr>\n",
       "      <th>2</th>\n",
       "      <td>tt0000003</td>\n",
       "      <td>short</td>\n",
       "      <td>Pauvre Pierrot</td>\n",
       "      <td>Pauvre Pierrot</td>\n",
       "      <td>0</td>\n",
       "      <td>1892</td>\n",
       "      <td>\\N</td>\n",
       "      <td>4</td>\n",
       "      <td>Animation,Comedy,Romance</td>\n",
       "    </tr>\n",
       "    <tr>\n",
       "      <th>3</th>\n",
       "      <td>tt0000004</td>\n",
       "      <td>short</td>\n",
       "      <td>Un bon bock</td>\n",
       "      <td>Un bon bock</td>\n",
       "      <td>0</td>\n",
       "      <td>1892</td>\n",
       "      <td>\\N</td>\n",
       "      <td>12</td>\n",
       "      <td>Animation,Short</td>\n",
       "    </tr>\n",
       "    <tr>\n",
       "      <th>4</th>\n",
       "      <td>tt0000005</td>\n",
       "      <td>short</td>\n",
       "      <td>Blacksmith Scene</td>\n",
       "      <td>Blacksmith Scene</td>\n",
       "      <td>0</td>\n",
       "      <td>1893</td>\n",
       "      <td>\\N</td>\n",
       "      <td>1</td>\n",
       "      <td>Comedy,Short</td>\n",
       "    </tr>\n",
       "  </tbody>\n",
       "</table>\n",
       "</div>"
      ],
      "text/plain": [
       "      tconst titleType            primaryTitle           originalTitle  \\\n",
       "0  tt0000001     short              Carmencita              Carmencita   \n",
       "1  tt0000002     short  Le clown et ses chiens  Le clown et ses chiens   \n",
       "2  tt0000003     short          Pauvre Pierrot          Pauvre Pierrot   \n",
       "3  tt0000004     short             Un bon bock             Un bon bock   \n",
       "4  tt0000005     short        Blacksmith Scene        Blacksmith Scene   \n",
       "\n",
       "  isAdult startYear endYear runtimeMinutes                    genres  \n",
       "0       0      1894      \\N              1         Documentary,Short  \n",
       "1       0      1892      \\N              5           Animation,Short  \n",
       "2       0      1892      \\N              4  Animation,Comedy,Romance  \n",
       "3       0      1892      \\N             12           Animation,Short  \n",
       "4       0      1893      \\N              1              Comedy,Short  "
      ]
     },
     "execution_count": 43,
     "metadata": {},
     "output_type": "execute_result"
    }
   ],
   "source": [
    "basics.head()"
   ]
  },
  {
   "cell_type": "code",
   "execution_count": 44,
   "id": "9d541c56-a043-43e3-ab3f-19502470d11d",
   "metadata": {},
   "outputs": [
    {
     "name": "stdout",
     "output_type": "stream",
     "text": [
      "There are 10311739 rows and 9 columns in the title_basics dataset.\n"
     ]
    }
   ],
   "source": [
    "print(f'There are {basics.shape[0]} rows and {basics.shape[1]} columns in the title_basics dataset.')"
   ]
  },
  {
   "cell_type": "code",
   "execution_count": 45,
   "id": "63e387db-0bcd-4987-a426-bdd12d05f7d3",
   "metadata": {},
   "outputs": [
    {
     "data": {
      "text/html": [
       "<div>\n",
       "<style scoped>\n",
       "    .dataframe tbody tr th:only-of-type {\n",
       "        vertical-align: middle;\n",
       "    }\n",
       "\n",
       "    .dataframe tbody tr th {\n",
       "        vertical-align: top;\n",
       "    }\n",
       "\n",
       "    .dataframe thead th {\n",
       "        text-align: right;\n",
       "    }\n",
       "</style>\n",
       "<table border=\"1\" class=\"dataframe\">\n",
       "  <thead>\n",
       "    <tr style=\"text-align: right;\">\n",
       "      <th></th>\n",
       "      <th>tconst</th>\n",
       "      <th>titleType</th>\n",
       "      <th>primaryTitle</th>\n",
       "      <th>originalTitle</th>\n",
       "      <th>isAdult</th>\n",
       "      <th>startYear</th>\n",
       "      <th>endYear</th>\n",
       "      <th>runtimeMinutes</th>\n",
       "      <th>genres</th>\n",
       "    </tr>\n",
       "  </thead>\n",
       "  <tbody>\n",
       "    <tr>\n",
       "      <th>0</th>\n",
       "      <td>tt0000001</td>\n",
       "      <td>short</td>\n",
       "      <td>Carmencita</td>\n",
       "      <td>Carmencita</td>\n",
       "      <td>0</td>\n",
       "      <td>1894</td>\n",
       "      <td>\\N</td>\n",
       "      <td>1</td>\n",
       "      <td>Documentary,Short</td>\n",
       "    </tr>\n",
       "    <tr>\n",
       "      <th>1</th>\n",
       "      <td>tt0000002</td>\n",
       "      <td>short</td>\n",
       "      <td>Le clown et ses chiens</td>\n",
       "      <td>Le clown et ses chiens</td>\n",
       "      <td>0</td>\n",
       "      <td>1892</td>\n",
       "      <td>\\N</td>\n",
       "      <td>5</td>\n",
       "      <td>Animation,Short</td>\n",
       "    </tr>\n",
       "    <tr>\n",
       "      <th>2</th>\n",
       "      <td>tt0000003</td>\n",
       "      <td>short</td>\n",
       "      <td>Pauvre Pierrot</td>\n",
       "      <td>Pauvre Pierrot</td>\n",
       "      <td>0</td>\n",
       "      <td>1892</td>\n",
       "      <td>\\N</td>\n",
       "      <td>4</td>\n",
       "      <td>Animation,Comedy,Romance</td>\n",
       "    </tr>\n",
       "    <tr>\n",
       "      <th>3</th>\n",
       "      <td>tt0000004</td>\n",
       "      <td>short</td>\n",
       "      <td>Un bon bock</td>\n",
       "      <td>Un bon bock</td>\n",
       "      <td>0</td>\n",
       "      <td>1892</td>\n",
       "      <td>\\N</td>\n",
       "      <td>12</td>\n",
       "      <td>Animation,Short</td>\n",
       "    </tr>\n",
       "    <tr>\n",
       "      <th>4</th>\n",
       "      <td>tt0000005</td>\n",
       "      <td>short</td>\n",
       "      <td>Blacksmith Scene</td>\n",
       "      <td>Blacksmith Scene</td>\n",
       "      <td>0</td>\n",
       "      <td>1893</td>\n",
       "      <td>\\N</td>\n",
       "      <td>1</td>\n",
       "      <td>Comedy,Short</td>\n",
       "    </tr>\n",
       "  </tbody>\n",
       "</table>\n",
       "</div>"
      ],
      "text/plain": [
       "      tconst titleType            primaryTitle           originalTitle  \\\n",
       "0  tt0000001     short              Carmencita              Carmencita   \n",
       "1  tt0000002     short  Le clown et ses chiens  Le clown et ses chiens   \n",
       "2  tt0000003     short          Pauvre Pierrot          Pauvre Pierrot   \n",
       "3  tt0000004     short             Un bon bock             Un bon bock   \n",
       "4  tt0000005     short        Blacksmith Scene        Blacksmith Scene   \n",
       "\n",
       "  isAdult startYear endYear runtimeMinutes                    genres  \n",
       "0       0      1894      \\N              1         Documentary,Short  \n",
       "1       0      1892      \\N              5           Animation,Short  \n",
       "2       0      1892      \\N              4  Animation,Comedy,Romance  \n",
       "3       0      1892      \\N             12           Animation,Short  \n",
       "4       0      1893      \\N              1              Comedy,Short  "
      ]
     },
     "execution_count": 45,
     "metadata": {},
     "output_type": "execute_result"
    }
   ],
   "source": [
    "basics.head()"
   ]
  },
  {
   "cell_type": "code",
   "execution_count": 46,
   "id": "518b53ac-34df-4acb-aa9d-edd4e5ff462e",
   "metadata": {},
   "outputs": [],
   "source": [
    "## Replace \"\\N\" with np.nan\n",
    "basics.replace({'\\\\N':np.nan}, inplace=True)"
   ]
  },
  {
   "cell_type": "code",
   "execution_count": 47,
   "id": "0f28b7d1-e6e1-42a9-ae8b-274b9cd17c11",
   "metadata": {},
   "outputs": [],
   "source": [
    "## Eliminate movies that are null for runtimeMinutes\n",
    "basics.dropna(subset=['runtimeMinutes'], inplace=True)"
   ]
  },
  {
   "cell_type": "code",
   "execution_count": 48,
   "id": "f6331e40-8e66-4c4a-87bc-70fe7a535a36",
   "metadata": {},
   "outputs": [],
   "source": [
    "## Eliminate movies that are null for genre\n",
    "basics.dropna(subset=['genres'], inplace=True)"
   ]
  },
  {
   "cell_type": "code",
   "execution_count": 49,
   "id": "44784bb3-2b16-4593-9df6-0abdfdc90986",
   "metadata": {},
   "outputs": [],
   "source": [
    "## Keep only titleType==Movie\n",
    "basics = basics[basics['titleType'] == 'movie']"
   ]
  },
  {
   "cell_type": "code",
   "execution_count": 50,
   "id": "92a405fa-ea74-4154-a3ef-3ef5a07942cf",
   "metadata": {},
   "outputs": [],
   "source": [
    "## Keep startYear 2000-2022\n",
    "basics = basics[(basics['startYear'] >= '2000') & (basics['startYear'] < '2022')]"
   ]
  },
  {
   "cell_type": "code",
   "execution_count": 51,
   "id": "1dcffcb5-7676-4fe4-a590-8b55810f560d",
   "metadata": {},
   "outputs": [],
   "source": [
    "## Eliminate movies that include \"Documentary\" in genre\n",
    "is_documentary = basics['genres'].str.contains('documentary', case=False)\n",
    "basics = basics[~is_documentary]"
   ]
  },
  {
   "cell_type": "code",
   "execution_count": 52,
   "id": "43ef1234-6ced-476c-938e-67a74674e2ef",
   "metadata": {},
   "outputs": [],
   "source": [
    "## Keep only US movies\n",
    "us_movies = basics['tconst'].isin(akas['titleId'])\n",
    "basics = basics[us_movies]"
   ]
  },
  {
   "cell_type": "code",
   "execution_count": 55,
   "id": "1957ea4f-6705-40f4-91a7-99418e552dff",
   "metadata": {},
   "outputs": [],
   "source": [
    "## Align datatypes\n",
    "basics['isAdult'] = basics['isAdult'].astype(bool)\n",
    "basics['runtimeMinutes'] = pd.to_numeric(basics['runtimeMinutes'], errors='coerce')"
   ]
  },
  {
   "cell_type": "code",
   "execution_count": 56,
   "id": "5b686d30-e79d-47cb-8347-536fb855a96c",
   "metadata": {},
   "outputs": [
    {
     "name": "stdout",
     "output_type": "stream",
     "text": [
      "<class 'pandas.core.frame.DataFrame'>\n",
      "Int64Index: 82235 entries, 34800 to 10311505\n",
      "Data columns (total 9 columns):\n",
      " #   Column          Non-Null Count  Dtype \n",
      "---  ------          --------------  ----- \n",
      " 0   tconst          82235 non-null  object\n",
      " 1   titleType       82235 non-null  object\n",
      " 2   primaryTitle    82235 non-null  object\n",
      " 3   originalTitle   82235 non-null  object\n",
      " 4   isAdult         82235 non-null  bool  \n",
      " 5   startYear       82235 non-null  int32 \n",
      " 6   endYear         0 non-null      object\n",
      " 7   runtimeMinutes  82235 non-null  int64 \n",
      " 8   genres          82235 non-null  object\n",
      "dtypes: bool(1), int32(1), int64(1), object(6)\n",
      "memory usage: 5.4+ MB\n"
     ]
    }
   ],
   "source": [
    "## Cleaned and filtered data\n",
    "basics.info()"
   ]
  },
  {
   "cell_type": "code",
   "execution_count": 57,
   "id": "34f59cce-46f8-4d1f-b68c-ae3cdbf2e696",
   "metadata": {},
   "outputs": [
    {
     "data": {
      "text/html": [
       "<div>\n",
       "<style scoped>\n",
       "    .dataframe tbody tr th:only-of-type {\n",
       "        vertical-align: middle;\n",
       "    }\n",
       "\n",
       "    .dataframe tbody tr th {\n",
       "        vertical-align: top;\n",
       "    }\n",
       "\n",
       "    .dataframe thead th {\n",
       "        text-align: right;\n",
       "    }\n",
       "</style>\n",
       "<table border=\"1\" class=\"dataframe\">\n",
       "  <thead>\n",
       "    <tr style=\"text-align: right;\">\n",
       "      <th></th>\n",
       "      <th>tconst</th>\n",
       "      <th>titleType</th>\n",
       "      <th>primaryTitle</th>\n",
       "      <th>originalTitle</th>\n",
       "      <th>isAdult</th>\n",
       "      <th>startYear</th>\n",
       "      <th>endYear</th>\n",
       "      <th>runtimeMinutes</th>\n",
       "      <th>genres</th>\n",
       "    </tr>\n",
       "  </thead>\n",
       "  <tbody>\n",
       "    <tr>\n",
       "      <th>34800</th>\n",
       "      <td>tt0035423</td>\n",
       "      <td>movie</td>\n",
       "      <td>Kate &amp; Leopold</td>\n",
       "      <td>Kate &amp; Leopold</td>\n",
       "      <td>True</td>\n",
       "      <td>2001</td>\n",
       "      <td>NaN</td>\n",
       "      <td>118</td>\n",
       "      <td>Comedy,Fantasy,Romance</td>\n",
       "    </tr>\n",
       "    <tr>\n",
       "      <th>61110</th>\n",
       "      <td>tt0062336</td>\n",
       "      <td>movie</td>\n",
       "      <td>The Tango of the Widower and Its Distorting Mi...</td>\n",
       "      <td>El tango del viudo y su espejo deformante</td>\n",
       "      <td>True</td>\n",
       "      <td>2020</td>\n",
       "      <td>NaN</td>\n",
       "      <td>70</td>\n",
       "      <td>Drama</td>\n",
       "    </tr>\n",
       "    <tr>\n",
       "      <th>67662</th>\n",
       "      <td>tt0069049</td>\n",
       "      <td>movie</td>\n",
       "      <td>The Other Side of the Wind</td>\n",
       "      <td>The Other Side of the Wind</td>\n",
       "      <td>True</td>\n",
       "      <td>2018</td>\n",
       "      <td>NaN</td>\n",
       "      <td>122</td>\n",
       "      <td>Drama</td>\n",
       "    </tr>\n",
       "    <tr>\n",
       "      <th>80547</th>\n",
       "      <td>tt0082328</td>\n",
       "      <td>movie</td>\n",
       "      <td>Embodiment of Evil</td>\n",
       "      <td>Encarnação do Demônio</td>\n",
       "      <td>True</td>\n",
       "      <td>2008</td>\n",
       "      <td>NaN</td>\n",
       "      <td>94</td>\n",
       "      <td>Horror</td>\n",
       "    </tr>\n",
       "    <tr>\n",
       "      <th>86789</th>\n",
       "      <td>tt0088751</td>\n",
       "      <td>movie</td>\n",
       "      <td>The Naked Monster</td>\n",
       "      <td>The Naked Monster</td>\n",
       "      <td>True</td>\n",
       "      <td>2005</td>\n",
       "      <td>NaN</td>\n",
       "      <td>100</td>\n",
       "      <td>Comedy,Horror,Sci-Fi</td>\n",
       "    </tr>\n",
       "  </tbody>\n",
       "</table>\n",
       "</div>"
      ],
      "text/plain": [
       "          tconst titleType                                       primaryTitle  \\\n",
       "34800  tt0035423     movie                                     Kate & Leopold   \n",
       "61110  tt0062336     movie  The Tango of the Widower and Its Distorting Mi...   \n",
       "67662  tt0069049     movie                         The Other Side of the Wind   \n",
       "80547  tt0082328     movie                                 Embodiment of Evil   \n",
       "86789  tt0088751     movie                                  The Naked Monster   \n",
       "\n",
       "                                   originalTitle  isAdult  startYear endYear  \\\n",
       "34800                             Kate & Leopold     True       2001     NaN   \n",
       "61110  El tango del viudo y su espejo deformante     True       2020     NaN   \n",
       "67662                 The Other Side of the Wind     True       2018     NaN   \n",
       "80547                      Encarnação do Demônio     True       2008     NaN   \n",
       "86789                          The Naked Monster     True       2005     NaN   \n",
       "\n",
       "       runtimeMinutes                  genres  \n",
       "34800             118  Comedy,Fantasy,Romance  \n",
       "61110              70                   Drama  \n",
       "67662             122                   Drama  \n",
       "80547              94                  Horror  \n",
       "86789             100    Comedy,Horror,Sci-Fi  "
      ]
     },
     "execution_count": 57,
     "metadata": {},
     "output_type": "execute_result"
    }
   ],
   "source": [
    "basics.head()"
   ]
  },
  {
   "cell_type": "markdown",
   "id": "c4ad794d-3c48-4671-9fed-e959896a4be7",
   "metadata": {},
   "source": [
    "## Inspect and filter the data: Title Ratings"
   ]
  },
  {
   "cell_type": "markdown",
   "id": "384e2c3a-7f0c-409e-870b-6c78792be159",
   "metadata": {},
   "source": [
    "**Data dictionary**"
   ]
  },
  {
   "cell_type": "markdown",
   "id": "a73c0af5-bd22-4b94-b26b-31f4a10f7b18",
   "metadata": {},
   "source": [
    "- tconst (string) - alphanumeric unique identifier of the title\n",
    "- averageRating – weighted average of all the individual user ratings\n",
    "- numVotes - number of votes the title has received"
   ]
  },
  {
   "cell_type": "code",
   "execution_count": 58,
   "id": "095c54e6-6b67-4901-b706-b64a487af9b7",
   "metadata": {},
   "outputs": [
    {
     "name": "stdout",
     "output_type": "stream",
     "text": [
      "<class 'pandas.core.frame.DataFrame'>\n",
      "RangeIndex: 1368573 entries, 0 to 1368572\n",
      "Data columns (total 3 columns):\n",
      " #   Column         Non-Null Count    Dtype  \n",
      "---  ------         --------------    -----  \n",
      " 0   tconst         1368573 non-null  object \n",
      " 1   averageRating  1368573 non-null  float64\n",
      " 2   numVotes       1368573 non-null  int64  \n",
      "dtypes: float64(1), int64(1), object(1)\n",
      "memory usage: 31.3+ MB\n"
     ]
    }
   ],
   "source": [
    "ratings.info()"
   ]
  },
  {
   "cell_type": "code",
   "execution_count": 59,
   "id": "db140eb3-c123-4e23-9901-ca490a091b5b",
   "metadata": {},
   "outputs": [
    {
     "data": {
      "text/html": [
       "<div>\n",
       "<style scoped>\n",
       "    .dataframe tbody tr th:only-of-type {\n",
       "        vertical-align: middle;\n",
       "    }\n",
       "\n",
       "    .dataframe tbody tr th {\n",
       "        vertical-align: top;\n",
       "    }\n",
       "\n",
       "    .dataframe thead th {\n",
       "        text-align: right;\n",
       "    }\n",
       "</style>\n",
       "<table border=\"1\" class=\"dataframe\">\n",
       "  <thead>\n",
       "    <tr style=\"text-align: right;\">\n",
       "      <th></th>\n",
       "      <th>tconst</th>\n",
       "      <th>averageRating</th>\n",
       "      <th>numVotes</th>\n",
       "    </tr>\n",
       "  </thead>\n",
       "  <tbody>\n",
       "    <tr>\n",
       "      <th>0</th>\n",
       "      <td>tt0000001</td>\n",
       "      <td>5.7</td>\n",
       "      <td>2007</td>\n",
       "    </tr>\n",
       "    <tr>\n",
       "      <th>1</th>\n",
       "      <td>tt0000002</td>\n",
       "      <td>5.8</td>\n",
       "      <td>269</td>\n",
       "    </tr>\n",
       "    <tr>\n",
       "      <th>2</th>\n",
       "      <td>tt0000003</td>\n",
       "      <td>6.5</td>\n",
       "      <td>1911</td>\n",
       "    </tr>\n",
       "    <tr>\n",
       "      <th>3</th>\n",
       "      <td>tt0000004</td>\n",
       "      <td>5.5</td>\n",
       "      <td>178</td>\n",
       "    </tr>\n",
       "    <tr>\n",
       "      <th>4</th>\n",
       "      <td>tt0000005</td>\n",
       "      <td>6.2</td>\n",
       "      <td>2692</td>\n",
       "    </tr>\n",
       "  </tbody>\n",
       "</table>\n",
       "</div>"
      ],
      "text/plain": [
       "      tconst  averageRating  numVotes\n",
       "0  tt0000001            5.7      2007\n",
       "1  tt0000002            5.8       269\n",
       "2  tt0000003            6.5      1911\n",
       "3  tt0000004            5.5       178\n",
       "4  tt0000005            6.2      2692"
      ]
     },
     "execution_count": 59,
     "metadata": {},
     "output_type": "execute_result"
    }
   ],
   "source": [
    "ratings.head()"
   ]
  },
  {
   "cell_type": "code",
   "execution_count": 60,
   "id": "faff9fa6-1cfe-46d6-8766-78f0d683e2f1",
   "metadata": {},
   "outputs": [
    {
     "name": "stdout",
     "output_type": "stream",
     "text": [
      "There are 1368573 rows and 3 columns in the title_basics dataset.\n"
     ]
    }
   ],
   "source": [
    "print(f'There are {ratings.shape[0]} rows and {ratings.shape[1]} columns in the title_basics dataset.')"
   ]
  },
  {
   "cell_type": "code",
   "execution_count": 61,
   "id": "8865470f-e849-4ccd-bb23-c7c7cf87baa1",
   "metadata": {},
   "outputs": [],
   "source": [
    "## Replace \"\\N\" with np.nan\n",
    "ratings.replace({'\\\\N':np.nan}, inplace=True)"
   ]
  },
  {
   "cell_type": "code",
   "execution_count": 62,
   "id": "976e9949-c292-4a9a-9542-c67f1400bbf9",
   "metadata": {},
   "outputs": [],
   "source": [
    "## Keep only US movies\n",
    "us_movies = ratings['tconst'].isin(akas['titleId'])\n",
    "ratings = ratings[us_movies]"
   ]
  },
  {
   "cell_type": "code",
   "execution_count": 63,
   "id": "3ead2335-81e4-44bb-b21a-2dbaf59ecfcf",
   "metadata": {},
   "outputs": [
    {
     "name": "stdout",
     "output_type": "stream",
     "text": [
      "<class 'pandas.core.frame.DataFrame'>\n",
      "Int64Index: 514075 entries, 0 to 1368549\n",
      "Data columns (total 3 columns):\n",
      " #   Column         Non-Null Count   Dtype  \n",
      "---  ------         --------------   -----  \n",
      " 0   tconst         514075 non-null  object \n",
      " 1   averageRating  514075 non-null  float64\n",
      " 2   numVotes       514075 non-null  int64  \n",
      "dtypes: float64(1), int64(1), object(1)\n",
      "memory usage: 15.7+ MB\n"
     ]
    }
   ],
   "source": [
    "## Cleaned and filtered data\n",
    "ratings.info()"
   ]
  },
  {
   "cell_type": "markdown",
   "id": "c995ac7d-cfec-4510-8786-ea7203ffe608",
   "metadata": {},
   "source": [
    "## Save the data"
   ]
  },
  {
   "cell_type": "code",
   "execution_count": 64,
   "id": "f2ceb138-7520-4fb7-8acb-50ed2d3c0e50",
   "metadata": {},
   "outputs": [],
   "source": [
    "## Create a Data folder\n",
    "os.makedirs('Data/', exist_ok=True) "
   ]
  },
  {
   "cell_type": "code",
   "execution_count": 65,
   "id": "288b373c-560a-408c-ba7a-b8ee993ed09d",
   "metadata": {},
   "outputs": [],
   "source": [
    "## Save current dataframes to files\n",
    "akas.to_csv(\"Data/title_akas.csv.gz\", compression='gzip', index=False)\n",
    "basics.to_csv(\"Data/title_basics.csv.gz\", compression='gzip', index=False)\n",
    "ratings.to_csv(\"Data/title_ratings.csv.gz\", compression='gzip', index=False)"
   ]
  },
  {
   "cell_type": "markdown",
   "id": "4a635b86-a0e8-44c2-9185-788874f918c8",
   "metadata": {},
   "source": [
    "## Preview saved data"
   ]
  },
  {
   "cell_type": "code",
   "execution_count": 66,
   "id": "abd0db78-d644-4f43-bbc8-a64380451cda",
   "metadata": {},
   "outputs": [
    {
     "name": "stdout",
     "output_type": "stream",
     "text": [
      "<class 'pandas.core.frame.DataFrame'>\n",
      "RangeIndex: 1477044 entries, 0 to 1477043\n",
      "Data columns (total 8 columns):\n",
      " #   Column           Non-Null Count    Dtype \n",
      "---  ------           --------------    ----- \n",
      " 0   titleId          1477044 non-null  object\n",
      " 1   ordering         1477044 non-null  int64 \n",
      " 2   title            1477044 non-null  object\n",
      " 3   region           1477044 non-null  object\n",
      " 4   language         4208 non-null     object\n",
      " 5   types            985576 non-null   object\n",
      " 6   attributes       47725 non-null    object\n",
      " 7   isOriginalTitle  1477044 non-null  bool  \n",
      "dtypes: bool(1), int64(1), object(6)\n",
      "memory usage: 80.3+ MB\n",
      "There are 1477044 rows and 8 columns in the clean and filtered title_akas dataset.\n"
     ]
    }
   ],
   "source": [
    "akas_clean = pd.read_csv(\"Data/title_akas.csv.gz\")\n",
    "akas_clean.info()\n",
    "print(f'There are {akas_clean.shape[0]} rows and {akas_clean.shape[1]} columns in the clean and filtered title_akas dataset.')"
   ]
  },
  {
   "cell_type": "code",
   "execution_count": 68,
   "id": "6a479b2e-579a-4622-a4eb-877e435e8be4",
   "metadata": {},
   "outputs": [
    {
     "name": "stdout",
     "output_type": "stream",
     "text": [
      "<class 'pandas.core.frame.DataFrame'>\n",
      "RangeIndex: 82235 entries, 0 to 82234\n",
      "Data columns (total 9 columns):\n",
      " #   Column          Non-Null Count  Dtype  \n",
      "---  ------          --------------  -----  \n",
      " 0   tconst          82235 non-null  object \n",
      " 1   titleType       82235 non-null  object \n",
      " 2   primaryTitle    82235 non-null  object \n",
      " 3   originalTitle   82235 non-null  object \n",
      " 4   isAdult         82235 non-null  bool   \n",
      " 5   startYear       82235 non-null  int64  \n",
      " 6   endYear         0 non-null      float64\n",
      " 7   runtimeMinutes  82235 non-null  int64  \n",
      " 8   genres          82235 non-null  object \n",
      "dtypes: bool(1), float64(1), int64(2), object(5)\n",
      "memory usage: 5.1+ MB\n",
      "There are 82235 rows and 9 columns in the clean and filtered title_basics dataset.\n"
     ]
    }
   ],
   "source": [
    "basics_clean = pd.read_csv(\"Data/title_basics.csv.gz\")\n",
    "basics_clean.info()\n",
    "print(f'There are {basics_clean.shape[0]} rows and {basics_clean.shape[1]} columns in the clean and filtered title_basics dataset.')"
   ]
  },
  {
   "cell_type": "code",
   "execution_count": 69,
   "id": "2e35a5da-0fb5-4a7f-87f5-7825807112ad",
   "metadata": {},
   "outputs": [
    {
     "name": "stdout",
     "output_type": "stream",
     "text": [
      "<class 'pandas.core.frame.DataFrame'>\n",
      "RangeIndex: 514075 entries, 0 to 514074\n",
      "Data columns (total 3 columns):\n",
      " #   Column         Non-Null Count   Dtype  \n",
      "---  ------         --------------   -----  \n",
      " 0   tconst         514075 non-null  object \n",
      " 1   averageRating  514075 non-null  float64\n",
      " 2   numVotes       514075 non-null  int64  \n",
      "dtypes: float64(1), int64(1), object(1)\n",
      "memory usage: 11.8+ MB\n",
      "There are 514075 rows and 3 columns in the clean and filtered title_ratings dataset.\n"
     ]
    }
   ],
   "source": [
    "ratings_clean = pd.read_csv(\"Data/title_ratings.csv.gz\")\n",
    "ratings_clean.info()\n",
    "print(f'There are {ratings_clean.shape[0]} rows and {ratings_clean.shape[1]} columns in the clean and filtered title_ratings dataset.')"
   ]
  }
 ],
 "metadata": {
  "kernelspec": {
   "display_name": "Python 3 (ipykernel)",
   "language": "python",
   "name": "python3"
  },
  "language_info": {
   "codemirror_mode": {
    "name": "ipython",
    "version": 3
   },
   "file_extension": ".py",
   "mimetype": "text/x-python",
   "name": "python",
   "nbconvert_exporter": "python",
   "pygments_lexer": "ipython3",
   "version": "3.10.10"
  }
 },
 "nbformat": 4,
 "nbformat_minor": 5
}
