{
 "cells": [
  {
   "cell_type": "markdown",
   "id": "ad982843-78f9-4348-a52e-5fba2554931d",
   "metadata": {},
   "source": [
    "# Project 3 - Part 1"
   ]
  },
  {
   "cell_type": "markdown",
   "id": "adae5ec4-40fa-45cd-9c44-3763336cbfc8",
   "metadata": {},
   "source": [
    "## Business problem"
   ]
  },
  {
   "cell_type": "markdown",
   "id": "11b3232e-c974-42f8-bad3-17f3cd1b3f3d",
   "metadata": {},
   "source": [
    "- Produce a MySQL database on movies from a subset of IMDB's publicly available dataset.\n",
    "- Use this database to analyze what makes a movie successful.\n",
    "- Provide recommendations to the stakeholder on how to make a successful movie."
   ]
  },
  {
   "cell_type": "markdown",
   "id": "84ceaea0-b142-4f08-a80f-9abbd30926ff",
   "metadata": {},
   "source": [
    "## Requirements"
   ]
  },
  {
   "cell_type": "markdown",
   "id": "f0858db4-61ff-4981-b31b-76fb9e95fd62",
   "metadata": {},
   "source": [
    "- Download several files from IMDB’s movie data set.\n",
    "- Exclude any movie with missing values for genre or runtime.\n",
    "- Include only full-length movies (titleType = \"movie\").\n",
    "- Include only fictional movies (not from documentary genre).\n",
    "- Include only movies that were released 2000 - 2021 (include 2000 and 2021).\n",
    "- Include only movies that were released in the United States."
   ]
  },
  {
   "cell_type": "markdown",
   "id": "8e81cf41-05c7-4a1f-9858-06fabd92f03c",
   "metadata": {},
   "source": [
    "## Imports"
   ]
  },
  {
   "cell_type": "code",
   "execution_count": 1,
   "id": "96c17b87-8d56-4b80-8e2f-fabfc3daff14",
   "metadata": {},
   "outputs": [],
   "source": [
    "import pandas as pd\n",
    "import os"
   ]
  },
  {
   "cell_type": "markdown",
   "id": "6264f6f0-7caa-4d4f-9850-5066943f9846",
   "metadata": {},
   "source": [
    "## Load the data"
   ]
  },
  {
   "cell_type": "code",
   "execution_count": 2,
   "id": "56823b13-a314-49d2-9713-de9d91857572",
   "metadata": {},
   "outputs": [],
   "source": [
    "akas_url = \"https://datasets.imdbws.com/title.akas.tsv.gz\"\n",
    "basics_url = \"https://datasets.imdbws.com/title.basics.tsv.gz\"\n",
    "ratings_url = \"https://datasets.imdbws.com/title.ratings.tsv.gz\""
   ]
  },
  {
   "cell_type": "code",
   "execution_count": null,
   "id": "7fef8046-fb5b-44eb-ac8f-1063f5c3bb6b",
   "metadata": {},
   "outputs": [],
   "source": [
    "akas = pd.read_csv(akas_url, sep='\\t', low_memory=False)"
   ]
  },
  {
   "cell_type": "code",
   "execution_count": null,
   "id": "97375db3-b32c-492d-850c-d8f2d04afcf3",
   "metadata": {},
   "outputs": [],
   "source": [
    "basics = pd.read_csv(basics_url, sep='\\t', low_memory=False)"
   ]
  },
  {
   "cell_type": "code",
   "execution_count": null,
   "id": "a8d4be2a-aa86-4208-b364-761f8a2812c0",
   "metadata": {},
   "outputs": [],
   "source": [
    "ratings = pd.read_csv(ratings_url, sep='\\t', low_memory=False)"
   ]
  },
  {
   "cell_type": "markdown",
   "id": "7cd3103c-8291-4d26-af89-26b4fb72499b",
   "metadata": {},
   "source": [
    "## Inspect and filter the data: Title AKAs"
   ]
  },
  {
   "cell_type": "markdown",
   "id": "36034754-c1e1-4f66-b67e-efa6fb69af8c",
   "metadata": {},
   "source": [
    "**Data dictionary**"
   ]
  },
  {
   "cell_type": "markdown",
   "id": "b135846b-51d4-461e-af4f-0256e3744c7e",
   "metadata": {},
   "source": [
    "- titleId (string) - a tconst, an alphanumeric unique identifier of the title\n",
    "- ordering (integer) – a number to uniquely identify rows for a given titleId\n",
    "- title (string) – the localized title\n",
    "- region (string) - the region for this version of the title\n",
    "- language (string) - the language of the title\n",
    "- types (array) - Enumerated set of attributes for this alternative title. E.g. \"alternative\", \"dvd\", \"festival\", \"tv\", etc.\n",
    "- attributes (array) - Additional terms to describe this alternative title, not enumerated\n",
    "- isOriginalTitle (boolean) – 0: not original title; 1: original title"
   ]
  },
  {
   "cell_type": "code",
   "execution_count": null,
   "id": "62b582d1-6ff4-4a5a-a1a9-4a68058f171b",
   "metadata": {},
   "outputs": [],
   "source": [
    "akas.info()"
   ]
  },
  {
   "cell_type": "code",
   "execution_count": null,
   "id": "36d5e091-3bd7-4ccc-a661-094101a521c4",
   "metadata": {},
   "outputs": [],
   "source": [
    "akas.head()"
   ]
  },
  {
   "cell_type": "code",
   "execution_count": null,
   "id": "c91b12f3-5f04-4304-8763-ae96d15d0f87",
   "metadata": {},
   "outputs": [],
   "source": [
    "print(f'There are {akas.shape[0]} rows and {akas.shape[1]} columns in the title_akas dataset.')"
   ]
  },
  {
   "cell_type": "code",
   "execution_count": null,
   "id": "7a73b906-4bfb-4944-abb9-7b7d0cb0424c",
   "metadata": {},
   "outputs": [],
   "source": [
    "## Align datatypes\n",
    "akas['isOriginalTitle'] = akas['isOriginalTitle'].astype(bool)"
   ]
  },
  {
   "cell_type": "code",
   "execution_count": null,
   "id": "d870e641-a7f2-4bdd-94fd-ba6af7da0257",
   "metadata": {},
   "outputs": [],
   "source": [
    "## Replace \"\\N\" with np.nan\n",
    "akas.replace({'\\\\N':np.nan}, inplace=True)"
   ]
  },
  {
   "cell_type": "code",
   "execution_count": null,
   "id": "e6e561bf-83c5-4627-a6ea-1410be9da928",
   "metadata": {},
   "outputs": [],
   "source": [
    "## Keep only US movies\n",
    "akas = akas[akas['region'] == 'US']"
   ]
  },
  {
   "cell_type": "code",
   "execution_count": null,
   "id": "c0efcf50-9d5d-4fcc-8c1b-2f2cf70b533d",
   "metadata": {},
   "outputs": [],
   "source": [
    "## Cleaned and filtered data\n",
    "akas.info()"
   ]
  },
  {
   "cell_type": "markdown",
   "id": "e9dce06a-33f9-4f12-a927-2f2d5b442ca4",
   "metadata": {},
   "source": [
    "## Inspect and filter the data: Title Basics"
   ]
  },
  {
   "cell_type": "markdown",
   "id": "d221686a-50ec-4887-9167-e31d8b5ed87d",
   "metadata": {},
   "source": [
    "**Data dictionary**"
   ]
  },
  {
   "cell_type": "markdown",
   "id": "3503cc7b-df42-4e16-9e36-efd75fffa588",
   "metadata": {},
   "source": [
    "- tconst (string) - alphanumeric unique identifier of the title\n",
    "- titleType (string) – the type/format of the title (e.g. movie, short, tvseries, tvepisode, video, etc)\n",
    "- primaryTitle (string) – the more popular title / the title used by the filmmakers on promotional materials at the point of release\n",
    "- originalTitle (string) - original title, in the original language\n",
    "- isAdult (boolean) - 0: non-adult title; 1: adult title\n",
    "- startYear (YYYY) – represents the release year of a title. In the case of TV Series, it is the series start year\n",
    "- endYear (YYYY) – TV Series end year. ‘\\N’ for all other title types\n",
    "- runtimeMinutes – primary runtime of the title, in minutes\n",
    "- genres (string array) – includes up to three genres associated with the title"
   ]
  },
  {
   "cell_type": "code",
   "execution_count": null,
   "id": "681662b1-a17a-4571-847a-5cfda3d3a770",
   "metadata": {},
   "outputs": [],
   "source": [
    "basics.info()"
   ]
  },
  {
   "cell_type": "code",
   "execution_count": null,
   "id": "8f7b735b-2c7a-440e-8087-a0a3c7c7fdca",
   "metadata": {},
   "outputs": [],
   "source": [
    "basics.head()"
   ]
  },
  {
   "cell_type": "code",
   "execution_count": null,
   "id": "9d541c56-a043-43e3-ab3f-19502470d11d",
   "metadata": {},
   "outputs": [],
   "source": [
    "print(f'There are {basics.shape[0]} rows and {basics.shape[1]} columns in the title_basics dataset.')"
   ]
  },
  {
   "cell_type": "code",
   "execution_count": null,
   "id": "1957ea4f-6705-40f4-91a7-99418e552dff",
   "metadata": {},
   "outputs": [],
   "source": [
    "## Align datatypes\n",
    "basics['isAdult'] = basics['isAdult'].astype(bool)\n",
    "basics['startYear'] = pd.to_datetime(basics['startYear'], format='%Y', errors='coerce')\n",
    "basics['endYear'] = pd.to_datetime(basics['endYear'], format='%Y', errors='coerce')\n",
    "basics['runtimeMinutes'] = pd.to_numeric(basics['runtimeMinutes'], errors='coerce')"
   ]
  },
  {
   "cell_type": "code",
   "execution_count": null,
   "id": "518b53ac-34df-4acb-aa9d-edd4e5ff462e",
   "metadata": {},
   "outputs": [],
   "source": [
    "## Replace \"\\N\" with np.nan\n",
    "basics.replace({'\\\\N':np.nan}, inplace=True)"
   ]
  },
  {
   "cell_type": "code",
   "execution_count": null,
   "id": "0f28b7d1-e6e1-42a9-ae8b-274b9cd17c11",
   "metadata": {},
   "outputs": [],
   "source": [
    "## Eliminate movies that are null for runtimeMinutes\n",
    "basics.dropna(subset=['runtimeMinutes'], inplace=True)"
   ]
  },
  {
   "cell_type": "code",
   "execution_count": null,
   "id": "f6331e40-8e66-4c4a-87bc-70fe7a535a36",
   "metadata": {},
   "outputs": [],
   "source": [
    "## Eliminate movies that are null for genre\n",
    "basics.dropna(subset=['genres'], inplace=True)"
   ]
  },
  {
   "cell_type": "code",
   "execution_count": null,
   "id": "44784bb3-2b16-4593-9df6-0abdfdc90986",
   "metadata": {},
   "outputs": [],
   "source": [
    "## Keep only titleType==Movie\n",
    "basics = basics[basics['titleType'] == 'movie']"
   ]
  },
  {
   "cell_type": "code",
   "execution_count": null,
   "id": "92a405fa-ea74-4154-a3ef-3ef5a07942cf",
   "metadata": {},
   "outputs": [],
   "source": [
    "## Keep startYear 2000-2022\n",
    "basics = basics[(basics['startYear'] >= '2000') & (basics['startYear'] < '2022')]"
   ]
  },
  {
   "cell_type": "code",
   "execution_count": null,
   "id": "1dcffcb5-7676-4fe4-a590-8b55810f560d",
   "metadata": {},
   "outputs": [],
   "source": [
    "## Eliminate movies that include \"Documentary\" in genre\n",
    "is_documentary = basics['genres'].str.contains('documentary', case=False)\n",
    "basics = basics[~is_documentary]"
   ]
  },
  {
   "cell_type": "code",
   "execution_count": null,
   "id": "43ef1234-6ced-476c-938e-67a74674e2ef",
   "metadata": {},
   "outputs": [],
   "source": [
    "## Keep only US movies\n",
    "us_movies = basics['tconst'].isin(akas['titleId'])\n",
    "basics = basics[us_movies]"
   ]
  },
  {
   "cell_type": "code",
   "execution_count": null,
   "id": "5b686d30-e79d-47cb-8347-536fb855a96c",
   "metadata": {},
   "outputs": [],
   "source": [
    "## Cleaned and filtered data\n",
    "basics.info()"
   ]
  },
  {
   "cell_type": "markdown",
   "id": "c4ad794d-3c48-4671-9fed-e959896a4be7",
   "metadata": {},
   "source": [
    "## Inspect and filter the data: Title Ratings"
   ]
  },
  {
   "cell_type": "markdown",
   "id": "384e2c3a-7f0c-409e-870b-6c78792be159",
   "metadata": {},
   "source": [
    "**Data dictionary**"
   ]
  },
  {
   "cell_type": "markdown",
   "id": "a73c0af5-bd22-4b94-b26b-31f4a10f7b18",
   "metadata": {},
   "source": [
    "- tconst (string) - alphanumeric unique identifier of the title\n",
    "- averageRating – weighted average of all the individual user ratings\n",
    "- numVotes - number of votes the title has received"
   ]
  },
  {
   "cell_type": "code",
   "execution_count": null,
   "id": "095c54e6-6b67-4901-b706-b64a487af9b7",
   "metadata": {},
   "outputs": [],
   "source": [
    "ratings.info()"
   ]
  },
  {
   "cell_type": "code",
   "execution_count": null,
   "id": "db140eb3-c123-4e23-9901-ca490a091b5b",
   "metadata": {},
   "outputs": [],
   "source": [
    "ratings.head()"
   ]
  },
  {
   "cell_type": "code",
   "execution_count": null,
   "id": "faff9fa6-1cfe-46d6-8766-78f0d683e2f1",
   "metadata": {},
   "outputs": [],
   "source": [
    "print(f'There are {ratings.shape[0]} rows and {ratings.shape[1]} columns in the title_basics dataset.')"
   ]
  },
  {
   "cell_type": "code",
   "execution_count": null,
   "id": "8865470f-e849-4ccd-bb23-c7c7cf87baa1",
   "metadata": {},
   "outputs": [],
   "source": [
    "## Replace \"\\N\" with np.nan\n",
    "ratings.replace({'\\\\N':np.nan}, inplace=True)"
   ]
  },
  {
   "cell_type": "code",
   "execution_count": null,
   "id": "976e9949-c292-4a9a-9542-c67f1400bbf9",
   "metadata": {},
   "outputs": [],
   "source": [
    "## Keep only US movies\n",
    "us_movies = ratings['tconst'].isin(akas['titleId'])\n",
    "ratings = ratings[us_movies]"
   ]
  },
  {
   "cell_type": "code",
   "execution_count": null,
   "id": "3ead2335-81e4-44bb-b21a-2dbaf59ecfcf",
   "metadata": {},
   "outputs": [],
   "source": [
    "## Cleaned and filtered data\n",
    "ratings.info()"
   ]
  },
  {
   "cell_type": "markdown",
   "id": "c995ac7d-cfec-4510-8786-ea7203ffe608",
   "metadata": {},
   "source": [
    "## Save the data"
   ]
  },
  {
   "cell_type": "code",
   "execution_count": null,
   "id": "f2ceb138-7520-4fb7-8acb-50ed2d3c0e50",
   "metadata": {},
   "outputs": [],
   "source": [
    "## Create a Data folder\n",
    "os.makedirs('Data/', exist_ok=True) "
   ]
  },
  {
   "cell_type": "code",
   "execution_count": null,
   "id": "288b373c-560a-408c-ba7a-b8ee993ed09d",
   "metadata": {},
   "outputs": [],
   "source": [
    "## Save current dataframes to files\n",
    "akas.to_csv(\"Data/title_akas.csv.gz\", compression='gzip', index=False)\n",
    "basics.to_csv(\"Data/title_basics.csv.gz\", compression='gzip', index=False)\n",
    "ratings.to_csv(\"Data/title_ratings.csv.gz\", compression='gzip', index=False)"
   ]
  },
  {
   "cell_type": "markdown",
   "id": "4a635b86-a0e8-44c2-9185-788874f918c8",
   "metadata": {},
   "source": [
    "## Preview saved data"
   ]
  },
  {
   "cell_type": "code",
   "execution_count": null,
   "id": "abd0db78-d644-4f43-bbc8-a64380451cda",
   "metadata": {},
   "outputs": [],
   "source": [
    "akas_clean = pd.read_csv(\"Data/title_akas.csv.gz\", low_memory=False)\n",
    "akas_clean.info()"
   ]
  },
  {
   "cell_type": "code",
   "execution_count": null,
   "id": "6a479b2e-579a-4622-a4eb-877e435e8be4",
   "metadata": {},
   "outputs": [],
   "source": [
    "basics_clean = pd.read_csv(\"Data/title_basics.csv.gz\", low_memory=False)\n",
    "basics_clean.info()"
   ]
  },
  {
   "cell_type": "code",
   "execution_count": null,
   "id": "2e35a5da-0fb5-4a7f-87f5-7825807112ad",
   "metadata": {},
   "outputs": [],
   "source": [
    "ratings_clean = pd.read_csv(\"Data/title_ratings.csv.gz\", low_memory=False)\n",
    "ratings_clean.info()"
   ]
  }
 ],
 "metadata": {
  "kernelspec": {
   "display_name": "Python 3 (ipykernel)",
   "language": "python",
   "name": "python3"
  },
  "language_info": {
   "codemirror_mode": {
    "name": "ipython",
    "version": 3
   },
   "file_extension": ".py",
   "mimetype": "text/x-python",
   "name": "python",
   "nbconvert_exporter": "python",
   "pygments_lexer": "ipython3",
   "version": "3.10.10"
  }
 },
 "nbformat": 4,
 "nbformat_minor": 5
}
