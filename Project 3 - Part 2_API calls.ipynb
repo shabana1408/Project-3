{
 "cells": [
  {
   "cell_type": "markdown",
   "id": "ad982843-78f9-4348-a52e-5fba2554931d",
   "metadata": {},
   "source": [
    "# Project 3 - Part 2"
   ]
  },
  {
   "cell_type": "markdown",
   "id": "adae5ec4-40fa-45cd-9c44-3763336cbfc8",
   "metadata": {},
   "source": [
    "## Business problem"
   ]
  },
  {
   "cell_type": "markdown",
   "id": "11b3232e-c974-42f8-bad3-17f3cd1b3f3d",
   "metadata": {},
   "source": [
    "- Produce a MySQL database on movies from a subset of IMDB's publicly available dataset.\n",
    "- Use this database to analyze what makes a movie successful.\n",
    "- Provide recommendations to the stakeholder on how to make a successful movie."
   ]
  },
  {
   "cell_type": "markdown",
   "id": "84ceaea0-b142-4f08-a80f-9abbd30926ff",
   "metadata": {},
   "source": [
    "## Requirements"
   ]
  },
  {
   "cell_type": "markdown",
   "id": "dd2ad4a0-1770-49e1-a9c6-cf50d88b8d46",
   "metadata": {},
   "source": [
    "- Perform a test extraction of movies that started in 2000 or 2001\n",
    "- Each year should be saved as a separate .csv.gz file\n",
    "- Use one function to add the certification (MPGG Rating) to movie.info\n",
    "- Test your function on these 2 movie ids: tt0848228 (\"The Avengers\") and tt0332280 (\"The Notebook\")\n",
    "- The other function will help you append/extend a JSON file with Python\n",
    "- Saved the final results to 2 separate .csv.gz files"
   ]
  },
  {
   "cell_type": "markdown",
   "id": "8e81cf41-05c7-4a1f-9858-06fabd92f03c",
   "metadata": {},
   "source": [
    "## Imports"
   ]
  },
  {
   "cell_type": "code",
   "execution_count": 1,
   "id": "96c17b87-8d56-4b80-8e2f-fabfc3daff14",
   "metadata": {},
   "outputs": [],
   "source": [
    "import pandas as pd\n",
    "import numpy as np\n",
    "import tmdbsimple as tmdb\n",
    "\n",
    "import os, json, math, time\n",
    "\n",
    "from datetime import datetime\n",
    "from tqdm.notebook import tqdm_notebook"
   ]
  },
  {
   "cell_type": "markdown",
   "id": "7cd3103c-8291-4d26-af89-26b4fb72499b",
   "metadata": {},
   "source": [
    "## Code"
   ]
  },
  {
   "cell_type": "code",
   "execution_count": 2,
   "id": "abd0db78-d644-4f43-bbc8-a64380451cda",
   "metadata": {},
   "outputs": [
    {
     "name": "stdout",
     "output_type": "stream",
     "text": [
      "Data loaded. Shape: (82146, 9)\n"
     ]
    }
   ],
   "source": [
    "## Extract all movies\n",
    "all_movies = pd.read_csv(\"Data/title_basics.csv.gz\", low_memory=False)\n",
    "print(\"Data loaded. Shape:\", all_movies.shape)  "
   ]
  },
  {
   "cell_type": "code",
   "execution_count": 3,
   "id": "4ca95cae-bdf5-404e-acca-be63e6ee93bd",
   "metadata": {},
   "outputs": [
    {
     "data": {
      "text/html": [
       "<div>\n",
       "<style scoped>\n",
       "    .dataframe tbody tr th:only-of-type {\n",
       "        vertical-align: middle;\n",
       "    }\n",
       "\n",
       "    .dataframe tbody tr th {\n",
       "        vertical-align: top;\n",
       "    }\n",
       "\n",
       "    .dataframe thead th {\n",
       "        text-align: right;\n",
       "    }\n",
       "</style>\n",
       "<table border=\"1\" class=\"dataframe\">\n",
       "  <thead>\n",
       "    <tr style=\"text-align: right;\">\n",
       "      <th></th>\n",
       "      <th>tconst</th>\n",
       "      <th>titleType</th>\n",
       "      <th>primaryTitle</th>\n",
       "      <th>originalTitle</th>\n",
       "      <th>isAdult</th>\n",
       "      <th>startYear</th>\n",
       "      <th>endYear</th>\n",
       "      <th>runtimeMinutes</th>\n",
       "      <th>genres</th>\n",
       "    </tr>\n",
       "  </thead>\n",
       "  <tbody>\n",
       "    <tr>\n",
       "      <th>0</th>\n",
       "      <td>tt0035423</td>\n",
       "      <td>movie</td>\n",
       "      <td>Kate &amp; Leopold</td>\n",
       "      <td>Kate &amp; Leopold</td>\n",
       "      <td>True</td>\n",
       "      <td>2001-01-01</td>\n",
       "      <td>NaN</td>\n",
       "      <td>118.0</td>\n",
       "      <td>Comedy,Fantasy,Romance</td>\n",
       "    </tr>\n",
       "    <tr>\n",
       "      <th>1</th>\n",
       "      <td>tt0062336</td>\n",
       "      <td>movie</td>\n",
       "      <td>The Tango of the Widower and Its Distorting Mi...</td>\n",
       "      <td>El tango del viudo y su espejo deformante</td>\n",
       "      <td>True</td>\n",
       "      <td>2020-01-01</td>\n",
       "      <td>NaN</td>\n",
       "      <td>70.0</td>\n",
       "      <td>Drama</td>\n",
       "    </tr>\n",
       "    <tr>\n",
       "      <th>2</th>\n",
       "      <td>tt0068865</td>\n",
       "      <td>movie</td>\n",
       "      <td>Lives of Performers</td>\n",
       "      <td>Lives of Performers</td>\n",
       "      <td>True</td>\n",
       "      <td>2016-01-01</td>\n",
       "      <td>NaN</td>\n",
       "      <td>90.0</td>\n",
       "      <td>Drama</td>\n",
       "    </tr>\n",
       "    <tr>\n",
       "      <th>3</th>\n",
       "      <td>tt0069049</td>\n",
       "      <td>movie</td>\n",
       "      <td>The Other Side of the Wind</td>\n",
       "      <td>The Other Side of the Wind</td>\n",
       "      <td>True</td>\n",
       "      <td>2018-01-01</td>\n",
       "      <td>NaN</td>\n",
       "      <td>122.0</td>\n",
       "      <td>Drama</td>\n",
       "    </tr>\n",
       "    <tr>\n",
       "      <th>4</th>\n",
       "      <td>tt0082328</td>\n",
       "      <td>movie</td>\n",
       "      <td>Embodiment of Evil</td>\n",
       "      <td>Encarnação do Demônio</td>\n",
       "      <td>True</td>\n",
       "      <td>2008-01-01</td>\n",
       "      <td>NaN</td>\n",
       "      <td>94.0</td>\n",
       "      <td>Horror</td>\n",
       "    </tr>\n",
       "  </tbody>\n",
       "</table>\n",
       "</div>"
      ],
      "text/plain": [
       "      tconst titleType                                       primaryTitle  \\\n",
       "0  tt0035423     movie                                     Kate & Leopold   \n",
       "1  tt0062336     movie  The Tango of the Widower and Its Distorting Mi...   \n",
       "2  tt0068865     movie                                Lives of Performers   \n",
       "3  tt0069049     movie                         The Other Side of the Wind   \n",
       "4  tt0082328     movie                                 Embodiment of Evil   \n",
       "\n",
       "                               originalTitle  isAdult   startYear  endYear  \\\n",
       "0                             Kate & Leopold     True  2001-01-01      NaN   \n",
       "1  El tango del viudo y su espejo deformante     True  2020-01-01      NaN   \n",
       "2                        Lives of Performers     True  2016-01-01      NaN   \n",
       "3                 The Other Side of the Wind     True  2018-01-01      NaN   \n",
       "4                      Encarnação do Demônio     True  2008-01-01      NaN   \n",
       "\n",
       "   runtimeMinutes                  genres  \n",
       "0           118.0  Comedy,Fantasy,Romance  \n",
       "1            70.0                   Drama  \n",
       "2            90.0                   Drama  \n",
       "3           122.0                   Drama  \n",
       "4            94.0                  Horror  "
      ]
     },
     "execution_count": 3,
     "metadata": {},
     "output_type": "execute_result"
    }
   ],
   "source": [
    "all_movies.head()"
   ]
  },
  {
   "cell_type": "code",
   "execution_count": 4,
   "id": "a0e4a673-eb92-4a12-98cc-6e29e7df4bda",
   "metadata": {},
   "outputs": [
    {
     "name": "stdout",
     "output_type": "stream",
     "text": [
      "Movies in 2000: 1464 Movies in 2001: 1584\n"
     ]
    }
   ],
   "source": [
    "## Filter movies for start year 2000 and 2001\n",
    "movies_2000 = all_movies[all_movies['startYear'] == '2000-01-01']\n",
    "movies_2001 = all_movies[all_movies['startYear'] == '2001-01-01']\n",
    "print(\"Movies in 2000:\", movies_2000.shape[0], \"Movies in 2001:\", movies_2001.shape[0])"
   ]
  },
  {
   "cell_type": "code",
   "execution_count": 5,
   "id": "d2b3c004-ad31-40ee-b8a1-fef6e0b30b96",
   "metadata": {},
   "outputs": [],
   "source": [
    "## Save as a separate .csv.gz file\n",
    "movies_2000.to_csv(\"Data/movies_2000.csv.gz\", compression='gzip', index=False)\n",
    "movies_2001.to_csv(\"Data/movies_2001.csv.gz\", compression='gzip', index=False)"
   ]
  },
  {
   "cell_type": "code",
   "execution_count": 6,
   "id": "62b582d1-6ff4-4a5a-a1a9-4a68058f171b",
   "metadata": {},
   "outputs": [],
   "source": [
    "## Load API credentials\n",
    "import json\n",
    "with open('/Users/ShPatel/.secret/tmdb_api.json', 'r') as f:\n",
    "    login = json.load(f)"
   ]
  },
  {
   "cell_type": "code",
   "execution_count": 7,
   "id": "36d5e091-3bd7-4ccc-a661-094101a521c4",
   "metadata": {},
   "outputs": [],
   "source": [
    "tmdb.API_KEY =  login['api-key']"
   ]
  },
  {
   "cell_type": "code",
   "execution_count": 8,
   "id": "271b100b-6d79-43fa-ae82-b96a821204a4",
   "metadata": {},
   "outputs": [],
   "source": [
    "## Create a function to add certification to movies data\n",
    "def get_movie_with_rating(movie_id):\n",
    "    \"\"\"Adapted from source https://github.com/celiao/tmdbsimple\"\"\"\n",
    "    \n",
    "    ## Get the movie object for the current id\n",
    "    movie = tmdb.Movies(movie_id)\n",
    "    \n",
    "    ## Save the .info and .releases dictionaries\n",
    "    info = movie.info()\n",
    "    releases = movie.releases()\n",
    "\n",
    "    ## Loop through countries in releases\n",
    "    for c in releases['countries']:\n",
    "        ## When country abbreviation == US\n",
    "        if c['iso_3166_1'] == 'US':\n",
    "            ## Save a certification key in info with the certification\n",
    "            info['certification'] = c['certification']\n",
    "            break\n",
    "\n",
    "    return info"
   ]
  },
  {
   "cell_type": "code",
   "execution_count": 9,
   "id": "13f68297-7528-4ae2-ba2c-6d0314259e42",
   "metadata": {},
   "outputs": [
    {
     "data": {
      "text/html": [
       "<div>\n",
       "<style scoped>\n",
       "    .dataframe tbody tr th:only-of-type {\n",
       "        vertical-align: middle;\n",
       "    }\n",
       "\n",
       "    .dataframe tbody tr th {\n",
       "        vertical-align: top;\n",
       "    }\n",
       "\n",
       "    .dataframe thead th {\n",
       "        text-align: right;\n",
       "    }\n",
       "</style>\n",
       "<table border=\"1\" class=\"dataframe\">\n",
       "  <thead>\n",
       "    <tr style=\"text-align: right;\">\n",
       "      <th></th>\n",
       "      <th>adult</th>\n",
       "      <th>backdrop_path</th>\n",
       "      <th>belongs_to_collection</th>\n",
       "      <th>budget</th>\n",
       "      <th>genres</th>\n",
       "      <th>homepage</th>\n",
       "      <th>id</th>\n",
       "      <th>imdb_id</th>\n",
       "      <th>original_language</th>\n",
       "      <th>original_title</th>\n",
       "      <th>...</th>\n",
       "      <th>revenue</th>\n",
       "      <th>runtime</th>\n",
       "      <th>spoken_languages</th>\n",
       "      <th>status</th>\n",
       "      <th>tagline</th>\n",
       "      <th>title</th>\n",
       "      <th>video</th>\n",
       "      <th>vote_average</th>\n",
       "      <th>vote_count</th>\n",
       "      <th>certification</th>\n",
       "    </tr>\n",
       "  </thead>\n",
       "  <tbody>\n",
       "    <tr>\n",
       "      <th>0</th>\n",
       "      <td>False</td>\n",
       "      <td>/9BBTo63ANSmhC4e6r62OJFuK2GL.jpg</td>\n",
       "      <td>{'id': 86311, 'name': 'The Avengers Collection...</td>\n",
       "      <td>220000000</td>\n",
       "      <td>[{'id': 878, 'name': 'Science Fiction'}, {'id'...</td>\n",
       "      <td>https://www.marvel.com/movies/the-avengers</td>\n",
       "      <td>24428</td>\n",
       "      <td>tt0848228</td>\n",
       "      <td>en</td>\n",
       "      <td>The Avengers</td>\n",
       "      <td>...</td>\n",
       "      <td>1518815515</td>\n",
       "      <td>143</td>\n",
       "      <td>[{'english_name': 'English', 'iso_639_1': 'en'...</td>\n",
       "      <td>Released</td>\n",
       "      <td>Some assembly required.</td>\n",
       "      <td>The Avengers</td>\n",
       "      <td>False</td>\n",
       "      <td>7.711</td>\n",
       "      <td>29302</td>\n",
       "      <td>PG-13</td>\n",
       "    </tr>\n",
       "    <tr>\n",
       "      <th>1</th>\n",
       "      <td>False</td>\n",
       "      <td>/qom1SZSENdmHFNZBXbtJAU0WTlC.jpg</td>\n",
       "      <td>None</td>\n",
       "      <td>29000000</td>\n",
       "      <td>[{'id': 10749, 'name': 'Romance'}, {'id': 18, ...</td>\n",
       "      <td>http://www.newline.com/properties/notebookthe....</td>\n",
       "      <td>11036</td>\n",
       "      <td>tt0332280</td>\n",
       "      <td>en</td>\n",
       "      <td>The Notebook</td>\n",
       "      <td>...</td>\n",
       "      <td>115603229</td>\n",
       "      <td>123</td>\n",
       "      <td>[{'english_name': 'English', 'iso_639_1': 'en'...</td>\n",
       "      <td>Released</td>\n",
       "      <td>Behind every great love is a great story.</td>\n",
       "      <td>The Notebook</td>\n",
       "      <td>False</td>\n",
       "      <td>7.881</td>\n",
       "      <td>10705</td>\n",
       "      <td>PG-13</td>\n",
       "    </tr>\n",
       "  </tbody>\n",
       "</table>\n",
       "<p>2 rows × 26 columns</p>\n",
       "</div>"
      ],
      "text/plain": [
       "   adult                     backdrop_path  \\\n",
       "0  False  /9BBTo63ANSmhC4e6r62OJFuK2GL.jpg   \n",
       "1  False  /qom1SZSENdmHFNZBXbtJAU0WTlC.jpg   \n",
       "\n",
       "                               belongs_to_collection     budget  \\\n",
       "0  {'id': 86311, 'name': 'The Avengers Collection...  220000000   \n",
       "1                                               None   29000000   \n",
       "\n",
       "                                              genres  \\\n",
       "0  [{'id': 878, 'name': 'Science Fiction'}, {'id'...   \n",
       "1  [{'id': 10749, 'name': 'Romance'}, {'id': 18, ...   \n",
       "\n",
       "                                            homepage     id    imdb_id  \\\n",
       "0         https://www.marvel.com/movies/the-avengers  24428  tt0848228   \n",
       "1  http://www.newline.com/properties/notebookthe....  11036  tt0332280   \n",
       "\n",
       "  original_language original_title  ...     revenue  runtime  \\\n",
       "0                en   The Avengers  ...  1518815515      143   \n",
       "1                en   The Notebook  ...   115603229      123   \n",
       "\n",
       "                                    spoken_languages    status  \\\n",
       "0  [{'english_name': 'English', 'iso_639_1': 'en'...  Released   \n",
       "1  [{'english_name': 'English', 'iso_639_1': 'en'...  Released   \n",
       "\n",
       "                                     tagline         title  video  \\\n",
       "0                    Some assembly required.  The Avengers  False   \n",
       "1  Behind every great love is a great story.  The Notebook  False   \n",
       "\n",
       "   vote_average vote_count certification  \n",
       "0         7.711      29302         PG-13  \n",
       "1         7.881      10705         PG-13  \n",
       "\n",
       "[2 rows x 26 columns]"
      ]
     },
     "execution_count": 9,
     "metadata": {},
     "output_type": "execute_result"
    }
   ],
   "source": [
    "## Testing our function by looping through a list of ids\n",
    "test_ids = [\"tt0848228\", \"tt0332280\"]\n",
    "results = []\n",
    "errors = []\n",
    "\n",
    "for movie_id in test_ids:\n",
    "    \n",
    "    try:\n",
    "        movie_info = get_movie_with_rating(movie_id)\n",
    "        results.append(movie_info)\n",
    "        \n",
    "    except Exception as e: \n",
    "        errors.append([movie_id, e])\n",
    "    \n",
    "pd.DataFrame(results)"
   ]
  },
  {
   "cell_type": "code",
   "execution_count": 10,
   "id": "a1b2bb79-bcd9-401d-9ec7-a3e7dd27e9f9",
   "metadata": {},
   "outputs": [],
   "source": [
    "## Create a function to extend or append a JSON file with phyton\n",
    "def add_certification_to_movie(data, file_name):\n",
    "    \"\"\"Appends a list of records (new_data) to a json file (filename). \n",
    "    Adapted from: https://www.geeksforgeeks.org/append-to-json-file-using-python/\"\"\"  \n",
    "    \n",
    "    with open(file_name,'r+') as file:\n",
    "       \n",
    "        ## Load existing data\n",
    "        file_data = json.load(file)\n",
    "        \n",
    "        ## Extend or append data\n",
    "        if (type(data) == list) & (type(file_data) == list):\n",
    "            file_data.extend(data)\n",
    "        else:\n",
    "            file_data = pd.DataFrame([file_data])\n",
    "            add_data = pd.DataFrame([data])\n",
    "            file_data = pd.concat([file_data, add_data], ignore_index=True)\n",
    "        \n",
    "        ## Sets current position at offset\n",
    "        file.seek(0)\n",
    "        \n",
    "        ## Convert back to json\n",
    "        json.dump(file_data, file)\n"
   ]
  },
  {
   "cell_type": "code",
   "execution_count": 12,
   "id": "9cf550d7-1811-4366-b3e0-87884e60d026",
   "metadata": {},
   "outputs": [
    {
     "data": {
      "application/vnd.jupyter.widget-view+json": {
       "model_id": "0c0c739393984a8ebef8ad5144f666cd",
       "version_major": 2,
       "version_minor": 0
      },
      "text/plain": [
       "Years:   0%|          | 0/2 [00:00<?, ?it/s]"
      ]
     },
     "metadata": {},
     "output_type": "display_data"
    },
    {
     "data": {
      "application/vnd.jupyter.widget-view+json": {
       "model_id": "c5531cd90a1b47b4b2ce40ac71db9048",
       "version_major": 2,
       "version_minor": 0
      },
      "text/plain": [
       "Movies from 2000-01-01:   0%|          | 0/1464 [00:00<?, ?it/s]"
      ]
     },
     "metadata": {},
     "output_type": "display_data"
    },
    {
     "name": "stdout",
     "output_type": "stream",
     "text": [
      "- Total errors: 1\n"
     ]
    },
    {
     "data": {
      "application/vnd.jupyter.widget-view+json": {
       "model_id": "44231ed98e1441908cc4350dc803c2aa",
       "version_major": 2,
       "version_minor": 0
      },
      "text/plain": [
       "Movies from 2001-01-01:   0%|          | 0/1584 [00:00<?, ?it/s]"
      ]
     },
     "metadata": {},
     "output_type": "display_data"
    },
    {
     "name": "stdout",
     "output_type": "stream",
     "text": [
      "- Total errors: 1\n"
     ]
    }
   ],
   "source": [
    "## Run for extracted movies\n",
    "\n",
    "folder = 'Data/'\n",
    "years = ['2000-01-01', '2001-01-01']\n",
    "\n",
    "for year in tqdm_notebook(years, desc='Years', position=0):\n",
    "\n",
    "    file_name = f'{folder}movies_{year}_final.json'\n",
    "\n",
    "    if not os.path.exists(file_name):\n",
    "        with open(file_name,'w') as file:\n",
    "            json.dump({'imdb_id':0}, file)\n",
    "\n",
    "    file_name2 = f'{folder}errors_{year}.json'\n",
    "\n",
    "    if not os.path.exists(file_name2):\n",
    "        with open(file_name2,'w') as file2:\n",
    "            json.dump({'imdb_id':''}, file2)\n",
    "    \n",
    "    selected_movies = all_movies[all_movies['startYear'] == year]\n",
    "    movie_ids = selected_movies['tconst']\n",
    "\n",
    "    previous_df = pd.read_json(file_name, orient='index').transpose()\n",
    "    clean_movie_ids = movie_ids[~movie_ids.isin(previous_df['imdb_id'])]\n",
    "\n",
    "    for movie_id in tqdm_notebook(clean_movie_ids,\n",
    "                                  desc=f'Movies from {year}',\n",
    "                                  position=1,\n",
    "                                  leave=True):\n",
    "        try:\n",
    "            movie_info = get_movie_with_rating(movie_id)\n",
    "            add_certification_to_movie(movie_info, f'{folder}movies_{year}_final.json')\n",
    "            time.sleep(0.02)\n",
    "        \n",
    "        except Exception as e:\n",
    "            errors = pd.DataFrame(errors)\n",
    "            add_error = pd.DataFrame([[movie_id, str(e)]])\n",
    "            errors = pd.concat([errors, add_error], ignore_index=True)\n",
    "    \n",
    "    results = pd.read_json(f'{folder}movies_{year}_final.json', orient='index').transpose()\n",
    "    results.to_csv(f'{folder}movies_{year}_final.csv.gz', compression='gzip', index=False)\n",
    "\n",
    "    errors = pd.read_json(f'{folder}errors_{year}.json', orient='index').transpose()\n",
    "    errors.to_csv(f'{folder}errors_{year}.csv.gz', compression='gzip', index=False)\n",
    "    print(f\"- Total errors: {len(errors)}\")"
   ]
  }
 ],
 "metadata": {
  "kernelspec": {
   "display_name": "Python 3 (ipykernel)",
   "language": "python",
   "name": "python3"
  },
  "language_info": {
   "codemirror_mode": {
    "name": "ipython",
    "version": 3
   },
   "file_extension": ".py",
   "mimetype": "text/x-python",
   "name": "python",
   "nbconvert_exporter": "python",
   "pygments_lexer": "ipython3",
   "version": "3.10.10"
  }
 },
 "nbformat": 4,
 "nbformat_minor": 5
}
